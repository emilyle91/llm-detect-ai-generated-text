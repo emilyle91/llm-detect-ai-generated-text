{
 "cells": [
  {
   "cell_type": "code",
   "execution_count": 1,
   "id": "61017dff",
   "metadata": {
    "execution": {
     "iopub.execute_input": "2024-03-29T14:38:42.702601Z",
     "iopub.status.busy": "2024-03-29T14:38:42.701884Z",
     "iopub.status.idle": "2024-03-29T14:39:00.428395Z",
     "shell.execute_reply": "2024-03-29T14:39:00.427438Z"
    },
    "papermill": {
     "duration": 17.737336,
     "end_time": "2024-03-29T14:39:00.430879",
     "exception": false,
     "start_time": "2024-03-29T14:38:42.693543",
     "status": "completed"
    },
    "tags": []
   },
   "outputs": [
    {
     "name": "stdout",
     "output_type": "stream",
     "text": [
      "\u001b[31mERROR: pip's dependency resolver does not currently take into account all the packages that are installed. This behaviour is the source of the following dependency conflicts.\r\n",
      "tensorflow-decision-forests 1.8.1 requires wurlitzer, which is not installed.\u001b[0m\u001b[31m\r\n",
      "\u001b[0m"
     ]
    }
   ],
   "source": [
    "!pip install -q keras_nlp==0.6.3 keras-core==0.1.7 tensorflow==2.15.0"
   ]
  },
  {
   "cell_type": "code",
   "execution_count": 2,
   "id": "fc3c9d28",
   "metadata": {
    "execution": {
     "iopub.execute_input": "2024-03-29T14:39:00.445827Z",
     "iopub.status.busy": "2024-03-29T14:39:00.445511Z",
     "iopub.status.idle": "2024-03-29T14:39:00.450207Z",
     "shell.execute_reply": "2024-03-29T14:39:00.449326Z"
    },
    "papermill": {
     "duration": 0.014426,
     "end_time": "2024-03-29T14:39:00.452197",
     "exception": false,
     "start_time": "2024-03-29T14:39:00.437771",
     "status": "completed"
    },
    "tags": []
   },
   "outputs": [],
   "source": [
    "import warnings\n",
    "\n",
    "warnings.filterwarnings(\"ignore\", category=UserWarning)"
   ]
  },
  {
   "cell_type": "code",
   "execution_count": 3,
   "id": "481bfb29",
   "metadata": {
    "_kg_hide-output": true,
    "execution": {
     "iopub.execute_input": "2024-03-29T14:39:00.466753Z",
     "iopub.status.busy": "2024-03-29T14:39:00.466005Z",
     "iopub.status.idle": "2024-03-29T14:39:13.540416Z",
     "shell.execute_reply": "2024-03-29T14:39:13.539630Z"
    },
    "papermill": {
     "duration": 13.084064,
     "end_time": "2024-03-29T14:39:13.542742",
     "exception": false,
     "start_time": "2024-03-29T14:39:00.458678",
     "status": "completed"
    },
    "tags": []
   },
   "outputs": [
    {
     "name": "stderr",
     "output_type": "stream",
     "text": [
      "2024-03-29 14:39:02.215346: E external/local_xla/xla/stream_executor/cuda/cuda_dnn.cc:9261] Unable to register cuDNN factory: Attempting to register factory for plugin cuDNN when one has already been registered\n",
      "2024-03-29 14:39:02.215434: E external/local_xla/xla/stream_executor/cuda/cuda_fft.cc:607] Unable to register cuFFT factory: Attempting to register factory for plugin cuFFT when one has already been registered\n",
      "2024-03-29 14:39:02.353905: E external/local_xla/xla/stream_executor/cuda/cuda_blas.cc:1515] Unable to register cuBLAS factory: Attempting to register factory for plugin cuBLAS when one has already been registered\n"
     ]
    },
    {
     "name": "stdout",
     "output_type": "stream",
     "text": [
      "Using JAX backend.\n"
     ]
    }
   ],
   "source": [
    "import os\n",
    "\n",
    "os.environ[\"KERAS_BACKEND\"] = \"jax\"\n",
    "\n",
    "import keras_nlp\n",
    "import keras_core as keras\n",
    "import keras_core.backend as K\n",
    "\n",
    "import tensorflow as tf\n",
    "\n",
    "import pandas as pd\n",
    "import numpy as np\n",
    "import random\n",
    "\n",
    "import matplotlib.pyplot as plt"
   ]
  },
  {
   "cell_type": "code",
   "execution_count": 4,
   "id": "bc156a03",
   "metadata": {
    "_kg_hide-input": true,
    "execution": {
     "iopub.execute_input": "2024-03-29T14:39:13.558260Z",
     "iopub.status.busy": "2024-03-29T14:39:13.557700Z",
     "iopub.status.idle": "2024-03-29T14:39:13.563132Z",
     "shell.execute_reply": "2024-03-29T14:39:13.562271Z"
    },
    "papermill": {
     "duration": 0.015276,
     "end_time": "2024-03-29T14:39:13.565244",
     "exception": false,
     "start_time": "2024-03-29T14:39:13.549968",
     "status": "completed"
    },
    "tags": []
   },
   "outputs": [
    {
     "name": "stdout",
     "output_type": "stream",
     "text": [
      "TensorFlow: 2.15.0\n",
      "Keras: 0.1.7\n",
      "KerasNLP: 0.6.3\n"
     ]
    }
   ],
   "source": [
    "print(\"TensorFlow:\", tf.__version__)\n",
    "print(\"Keras:\", keras.__version__)\n",
    "print(\"KerasNLP:\", keras_nlp.__version__)"
   ]
  },
  {
   "cell_type": "code",
   "execution_count": 5,
   "id": "34f4d7e1",
   "metadata": {
    "_kg_hide-input": true,
    "execution": {
     "iopub.execute_input": "2024-03-29T14:39:13.579955Z",
     "iopub.status.busy": "2024-03-29T14:39:13.579693Z",
     "iopub.status.idle": "2024-03-29T14:39:13.586765Z",
     "shell.execute_reply": "2024-03-29T14:39:13.585748Z"
    },
    "papermill": {
     "duration": 0.016466,
     "end_time": "2024-03-29T14:39:13.588548",
     "exception": false,
     "start_time": "2024-03-29T14:39:13.572082",
     "status": "completed"
    },
    "tags": []
   },
   "outputs": [
    {
     "name": "stdout",
     "output_type": "stream",
     "text": [
      "Config loaded | Seed: 22026908\n"
     ]
    }
   ],
   "source": [
    "class CFG:\n",
    "    \"\"\"\n",
    "    Configuration class containing parameters and settings for the model.\n",
    "    \"\"\"\n",
    "\n",
    "    seed = 22026908  # Seed for random number generation to ensure reproducibility\n",
    "\n",
    "    device = None  # Device to be used for training: TPU, GPU, or CPU\n",
    "    replicas = None  # Number of replicas in device strategy for distributed training\n",
    "\n",
    "    preset = \"deberta_v3_base_en\"  # Name of the pretrained model to be used\n",
    "    sequence_length = 200  # Length of input sequences\n",
    "\n",
    "    num_folds = 5  # Number of folds for cross-validation\n",
    "    epochs = 3  # Number of epochs for training\n",
    "    batch_size = 10  # Size of the batches for training\n",
    "    cache = True  # Whether to cache data after one iteration for efficiency\n",
    "\n",
    "\n",
    "# Set the seed for random number generation in keras to ensure reproducibility\n",
    "keras.utils.set_random_seed(CFG.seed)\n",
    "\n",
    "print(f\"Config loaded | Seed: {CFG.seed}\")"
   ]
  },
  {
   "cell_type": "code",
   "execution_count": 6,
   "id": "5ac7424c",
   "metadata": {
    "_kg_hide-input": true,
    "execution": {
     "iopub.execute_input": "2024-03-29T14:39:13.603700Z",
     "iopub.status.busy": "2024-03-29T14:39:13.603439Z",
     "iopub.status.idle": "2024-03-29T14:39:13.945821Z",
     "shell.execute_reply": "2024-03-29T14:39:13.944716Z"
    },
    "papermill": {
     "duration": 0.352336,
     "end_time": "2024-03-29T14:39:13.947928",
     "exception": false,
     "start_time": "2024-03-29T14:39:13.595592",
     "status": "completed"
    },
    "tags": []
   },
   "outputs": [
    {
     "name": "stdout",
     "output_type": "stream",
     "text": [
      "Running on GPU | Num of GPUs: 1\n"
     ]
    }
   ],
   "source": [
    "def get_device():\n",
    "    \"\"\"\n",
    "    Detects and initializes the available computing device (TPU, GPU, or CPU)\n",
    "    and sets up the TensorFlow distribution strategy accordingly.\n",
    "\n",
    "    Returns:\n",
    "        tuple: A tuple containing the device type as a string and the\n",
    "               TensorFlow distribution strategy.\n",
    "    \"\"\"\n",
    "    try:\n",
    "        # Attempt to detect and initialize a TPU\n",
    "        tpu = tf.distribute.cluster_resolver.TPUClusterResolver()\n",
    "        print(f\"Running on TPU: {tpu.master()} | \", end=\"\")\n",
    "        tf.tpu.experimental.initialize_tpu_system(tpu)\n",
    "        strategy = tf.distribute.TPUStrategy(tpu)\n",
    "        print(f\"Num of TPUs: {strategy.num_replicas_in_sync}\")\n",
    "        device = \"TPU\"\n",
    "    except ValueError as e:\n",
    "        # If TPU is not available or any error occurs, attempt to detect GPUs\n",
    "        gpus = tf.config.list_logical_devices(\"GPU\")\n",
    "        ngpu = len(gpus)\n",
    "        if ngpu > 0:\n",
    "            # If GPUs are available, use the MirroredStrategy for single or multiple GPUs\n",
    "            strategy = tf.distribute.MirroredStrategy(\n",
    "                devices=[gpu.name for gpu in gpus]\n",
    "            )\n",
    "            print(f\"Running on GPU | Num of GPUs: {ngpu}\")\n",
    "            device = \"GPU\"\n",
    "        else:\n",
    "            # Fallback to CPU if neither TPU nor GPU is available\n",
    "            print(\"Running on CPU\")\n",
    "            strategy = (\n",
    "                tf.distribute.get_strategy()\n",
    "            )  # Default strategy that works on CPU and single GPU\n",
    "            device = \"CPU\"\n",
    "    return device, strategy\n",
    "\n",
    "\n",
    "# Initialize the computing device and distribution strategy, then update CFG\n",
    "CFG.device, strategy = get_device()\n",
    "CFG.replicas = strategy.num_replicas_in_sync"
   ]
  },
  {
   "cell_type": "code",
   "execution_count": 7,
   "id": "e366019f",
   "metadata": {
    "execution": {
     "iopub.execute_input": "2024-03-29T14:39:13.963769Z",
     "iopub.status.busy": "2024-03-29T14:39:13.963476Z",
     "iopub.status.idle": "2024-03-29T14:39:13.967452Z",
     "shell.execute_reply": "2024-03-29T14:39:13.966700Z"
    },
    "papermill": {
     "duration": 0.014784,
     "end_time": "2024-03-29T14:39:13.970235",
     "exception": false,
     "start_time": "2024-03-29T14:39:13.955451",
     "status": "completed"
    },
    "tags": []
   },
   "outputs": [],
   "source": [
    "BASE_PATH = \"/kaggle/input/daigt-proper-train-dataset\""
   ]
  },
  {
   "cell_type": "code",
   "execution_count": 8,
   "id": "f4067214",
   "metadata": {
    "_kg_hide-input": true,
    "execution": {
     "iopub.execute_input": "2024-03-29T14:39:13.986559Z",
     "iopub.status.busy": "2024-03-29T14:39:13.986275Z",
     "iopub.status.idle": "2024-03-29T14:39:17.853090Z",
     "shell.execute_reply": "2024-03-29T14:39:17.852017Z"
    },
    "papermill": {
     "duration": 3.878091,
     "end_time": "2024-03-29T14:39:17.855500",
     "exception": false,
     "start_time": "2024-03-29T14:39:13.977409",
     "status": "completed"
    },
    "tags": []
   },
   "outputs": [
    {
     "data": {
      "text/html": [
       "<div>\n",
       "<style scoped>\n",
       "    .dataframe tbody tr th:only-of-type {\n",
       "        vertical-align: middle;\n",
       "    }\n",
       "\n",
       "    .dataframe tbody tr th {\n",
       "        vertical-align: top;\n",
       "    }\n",
       "\n",
       "    .dataframe thead th {\n",
       "        text-align: right;\n",
       "    }\n",
       "</style>\n",
       "<table border=\"1\" class=\"dataframe\">\n",
       "  <thead>\n",
       "    <tr style=\"text-align: right;\">\n",
       "      <th></th>\n",
       "      <th>essay_id</th>\n",
       "      <th>text</th>\n",
       "      <th>label</th>\n",
       "      <th>source</th>\n",
       "      <th>prompt</th>\n",
       "      <th>fold</th>\n",
       "    </tr>\n",
       "  </thead>\n",
       "  <tbody>\n",
       "    <tr>\n",
       "      <th>0</th>\n",
       "      <td>E897534557AF</td>\n",
       "      <td>In recent years, technology has had a profoun...</td>\n",
       "      <td>1</td>\n",
       "      <td>mistral7binstruct_v2</td>\n",
       "      <td>\\nTask: Write an essay discussing the positive...</td>\n",
       "      <td>1</td>\n",
       "    </tr>\n",
       "    <tr>\n",
       "      <th>1</th>\n",
       "      <td>DFBA34FFE11D</td>\n",
       "      <td>Should students participate in an extracurricu...</td>\n",
       "      <td>0</td>\n",
       "      <td>persuade_corpus</td>\n",
       "      <td>NaN</td>\n",
       "      <td>2</td>\n",
       "    </tr>\n",
       "    <tr>\n",
       "      <th>2</th>\n",
       "      <td>af37ecf5</td>\n",
       "      <td>The electoral college is a symbol of mockery a...</td>\n",
       "      <td>0</td>\n",
       "      <td>train_essays</td>\n",
       "      <td>NaN</td>\n",
       "      <td>5</td>\n",
       "    </tr>\n",
       "    <tr>\n",
       "      <th>3</th>\n",
       "      <td>5EC2696BAD78</td>\n",
       "      <td>This is why I think the principle should allow...</td>\n",
       "      <td>0</td>\n",
       "      <td>persuade_corpus</td>\n",
       "      <td>NaN</td>\n",
       "      <td>8</td>\n",
       "    </tr>\n",
       "    <tr>\n",
       "      <th>4</th>\n",
       "      <td>llama_70b_v1843</td>\n",
       "      <td>I strongly believe that meditation and mindful...</td>\n",
       "      <td>1</td>\n",
       "      <td>llama_70b_v1</td>\n",
       "      <td>Some schools have implemented meditation and m...</td>\n",
       "      <td>0</td>\n",
       "    </tr>\n",
       "  </tbody>\n",
       "</table>\n",
       "</div>"
      ],
      "text/plain": [
       "          essay_id                                               text  label  \\\n",
       "0     E897534557AF   In recent years, technology has had a profoun...      1   \n",
       "1     DFBA34FFE11D  Should students participate in an extracurricu...      0   \n",
       "2         af37ecf5  The electoral college is a symbol of mockery a...      0   \n",
       "3     5EC2696BAD78  This is why I think the principle should allow...      0   \n",
       "4  llama_70b_v1843  I strongly believe that meditation and mindful...      1   \n",
       "\n",
       "                 source                                             prompt  \\\n",
       "0  mistral7binstruct_v2  \\nTask: Write an essay discussing the positive...   \n",
       "1       persuade_corpus                                                NaN   \n",
       "2          train_essays                                                NaN   \n",
       "3       persuade_corpus                                                NaN   \n",
       "4          llama_70b_v1  Some schools have implemented meditation and m...   \n",
       "\n",
       "   fold  \n",
       "0     1  \n",
       "1     2  \n",
       "2     5  \n",
       "3     8  \n",
       "4     0  "
      ]
     },
     "execution_count": 8,
     "metadata": {},
     "output_type": "execute_result"
    }
   ],
   "source": [
    "df = pd.read_csv(f\"{BASE_PATH}/train_drcat_04.csv\")\n",
    "df.head()"
   ]
  },
  {
   "cell_type": "code",
   "execution_count": 9,
   "id": "5670c07f",
   "metadata": {
    "execution": {
     "iopub.execute_input": "2024-03-29T14:39:17.874947Z",
     "iopub.status.busy": "2024-03-29T14:39:17.874268Z",
     "iopub.status.idle": "2024-03-29T14:39:17.891081Z",
     "shell.execute_reply": "2024-03-29T14:39:17.890147Z"
    },
    "papermill": {
     "duration": 0.028565,
     "end_time": "2024-03-29T14:39:17.893286",
     "exception": false,
     "start_time": "2024-03-29T14:39:17.864721",
     "status": "completed"
    },
    "tags": []
   },
   "outputs": [
    {
     "data": {
      "text/html": [
       "<div>\n",
       "<style scoped>\n",
       "    .dataframe tbody tr th:only-of-type {\n",
       "        vertical-align: middle;\n",
       "    }\n",
       "\n",
       "    .dataframe tbody tr th {\n",
       "        vertical-align: top;\n",
       "    }\n",
       "\n",
       "    .dataframe thead th {\n",
       "        text-align: right;\n",
       "    }\n",
       "</style>\n",
       "<table border=\"1\" class=\"dataframe\">\n",
       "  <thead>\n",
       "    <tr style=\"text-align: right;\">\n",
       "      <th></th>\n",
       "      <th>text</th>\n",
       "      <th>label</th>\n",
       "    </tr>\n",
       "  </thead>\n",
       "  <tbody>\n",
       "    <tr>\n",
       "      <th>0</th>\n",
       "      <td>In recent years, technology has had a profoun...</td>\n",
       "      <td>1</td>\n",
       "    </tr>\n",
       "    <tr>\n",
       "      <th>1</th>\n",
       "      <td>Should students participate in an extracurricu...</td>\n",
       "      <td>0</td>\n",
       "    </tr>\n",
       "    <tr>\n",
       "      <th>2</th>\n",
       "      <td>The electoral college is a symbol of mockery a...</td>\n",
       "      <td>0</td>\n",
       "    </tr>\n",
       "    <tr>\n",
       "      <th>3</th>\n",
       "      <td>This is why I think the principle should allow...</td>\n",
       "      <td>0</td>\n",
       "    </tr>\n",
       "    <tr>\n",
       "      <th>4</th>\n",
       "      <td>I strongly believe that meditation and mindful...</td>\n",
       "      <td>1</td>\n",
       "    </tr>\n",
       "  </tbody>\n",
       "</table>\n",
       "</div>"
      ],
      "text/plain": [
       "                                                text  label\n",
       "0   In recent years, technology has had a profoun...      1\n",
       "1  Should students participate in an extracurricu...      0\n",
       "2  The electoral college is a symbol of mockery a...      0\n",
       "3  This is why I think the principle should allow...      0\n",
       "4  I strongly believe that meditation and mindful...      1"
      ]
     },
     "execution_count": 9,
     "metadata": {},
     "output_type": "execute_result"
    }
   ],
   "source": [
    "df.drop([\"essay_id\", \"source\", \"prompt\", \"fold\"], inplace=True, axis=1)\n",
    "df.head()"
   ]
  },
  {
   "cell_type": "code",
   "execution_count": 10,
   "id": "dfd887d4",
   "metadata": {
    "execution": {
     "iopub.execute_input": "2024-03-29T14:39:17.911801Z",
     "iopub.status.busy": "2024-03-29T14:39:17.911132Z",
     "iopub.status.idle": "2024-03-29T14:39:18.244906Z",
     "shell.execute_reply": "2024-03-29T14:39:18.243978Z"
    },
    "papermill": {
     "duration": 0.345507,
     "end_time": "2024-03-29T14:39:18.247147",
     "exception": false,
     "start_time": "2024-03-29T14:39:17.901640",
     "status": "completed"
    },
    "tags": []
   },
   "outputs": [
    {
     "data": {
      "image/png": "[encoded data removed]",
      "text/plain": [
       "<Figure size 1000x600 with 1 Axes>"
      ]
     },
     "metadata": {},
     "output_type": "display_data"
    }
   ],
   "source": [
    "def plot_distribution(df):\n",
    "    \"\"\"\n",
    "    Plots the distribution of labels in the given DataFrame.\n",
    "\n",
    "    Parameters:\n",
    "    - df: pandas.DataFrame containing a 'label' column with integer values 0 (Human) or 1 (AI).\n",
    "\n",
    "    The function creates a bar plot showing the count of occurrences for each label.\n",
    "    \"\"\"\n",
    "    # Create a figure and an axis with a specified size\n",
    "    fig, ax = plt.subplots(figsize=(10, 6))\n",
    "\n",
    "    # Count the occurrence of each label and plot a bar chart\n",
    "    label_counts = df[\"label\"].value_counts()\n",
    "    bars = label_counts.plot(kind=\"bar\", ax=ax)\n",
    "\n",
    "    # Set the x and y-axis labels\n",
    "    ax.set_xlabel(\"Written by\")\n",
    "    ax.set_ylabel(\"Count\")\n",
    "\n",
    "    # Customize the x-tick labels to clearly identify categories\n",
    "    ax.set_xticklabels([\"Human\", \"AI\"], rotation=0)\n",
    "\n",
    "    # Set the title of the plot\n",
    "    ax.set_title(\"Distribution of AI Generated Text\")\n",
    "\n",
    "    # Annotate each bar with the count of occurrences above the bar\n",
    "    for bar in bars.containers[0]:\n",
    "        height = bar.get_height()  # Get the height of the bar\n",
    "        ax.annotate(\n",
    "            f\"{int(height)}\",  # Annotate with the integer count\n",
    "            xy=(\n",
    "                bar.get_x() + bar.get_width() / 2,\n",
    "                height,\n",
    "            ),  # Position at the center top of the bar\n",
    "            xytext=(0, 2),  # Slightly offset above the bar\n",
    "            textcoords=\"offset points\",  # Offset from the xy position\n",
    "            ha=\"center\",  # Horizontally align at the center of the bar\n",
    "            va=\"bottom\",\n",
    "        )  # Vertically align below the specified point\n",
    "\n",
    "    # Display the plot\n",
    "    plt.show()\n",
    "\n",
    "\n",
    "plot_distribution(df)"
   ]
  },
  {
   "cell_type": "code",
   "execution_count": 11,
   "id": "c452aae1",
   "metadata": {
    "_kg_hide-input": true,
    "execution": {
     "iopub.execute_input": "2024-03-29T14:39:18.265842Z",
     "iopub.status.busy": "2024-03-29T14:39:18.265548Z",
     "iopub.status.idle": "2024-03-29T14:39:19.134631Z",
     "shell.execute_reply": "2024-03-29T14:39:19.133486Z"
    },
    "papermill": {
     "duration": 0.881663,
     "end_time": "2024-03-29T14:39:19.137675",
     "exception": false,
     "start_time": "2024-03-29T14:39:18.256012",
     "status": "completed"
    },
    "tags": []
   },
   "outputs": [],
   "source": [
    "from sklearn.utils import resample\n",
    "\n",
    "# Count the number of instances for each label in the DataFrame\n",
    "label_counts = df[\"label\"].value_counts()\n",
    "\n",
    "# Extract the count for the label '0' instances\n",
    "label_0_count = label_counts.get(0, 0)\n",
    "\n",
    "# Downsample instances with label '0' to half of its original count\n",
    "# This is done to address class imbalance by reducing the number of '0' labeled instances\n",
    "label_0_downsampled = resample(\n",
    "    df[df[\"label\"] == 0],  # Filter to only include rows where 'label' is 0\n",
    "    replace=False,  # Do not allow sampling the same instance more than once\n",
    "    n_samples=label_0_count // 2,  # Target number of samples is half the original count\n",
    "    random_state=CFG.seed,  # Use a fixed seed for reproducibility\n",
    ")\n",
    "\n",
    "# Combine the downsampled instances with label '0' with the original instances with label '1'\n",
    "# This creates a new DataFrame with a balanced distribution of labels '0' and '1'\n",
    "downsampled_df = pd.concat(\n",
    "    [\n",
    "        label_0_downsampled,  # Downsampled '0' label instances\n",
    "        df[df[\"label\"] == 1],  # All '1' label instances\n",
    "    ]\n",
    ")\n",
    "\n",
    "# Shuffle the downsampled DataFrame to mix '0' and '1' labeled instances\n",
    "# This is important to ensure that the order of instances does not affect training/evaluation\n",
    "df = downsampled_df.sample(frac=1, random_state=CFG.seed).reset_index(drop=True)"
   ]
  },
  {
   "cell_type": "code",
   "execution_count": 12,
   "id": "f739e906",
   "metadata": {
    "execution": {
     "iopub.execute_input": "2024-03-29T14:39:19.160661Z",
     "iopub.status.busy": "2024-03-29T14:39:19.159712Z",
     "iopub.status.idle": "2024-03-29T14:39:19.399911Z",
     "shell.execute_reply": "2024-03-29T14:39:19.398814Z"
    },
    "papermill": {
     "duration": 0.254046,
     "end_time": "2024-03-29T14:39:19.402232",
     "exception": false,
     "start_time": "2024-03-29T14:39:19.148186",
     "status": "completed"
    },
    "tags": []
   },
   "outputs": [
    {
     "data": {
      "image/png": "[encoded data removed]",
      "text/plain": [
       "<Figure size 1000x600 with 1 Axes>"
      ]
     },
     "metadata": {},
     "output_type": "display_data"
    }
   ],
   "source": [
    "plot_distribution(df)"
   ]
  },
  {
   "cell_type": "code",
   "execution_count": 13,
   "id": "b45e2f79",
   "metadata": {
    "execution": {
     "iopub.execute_input": "2024-03-29T14:39:19.422807Z",
     "iopub.status.busy": "2024-03-29T14:39:19.422487Z",
     "iopub.status.idle": "2024-03-29T14:39:19.554179Z",
     "shell.execute_reply": "2024-03-29T14:39:19.553090Z"
    },
    "papermill": {
     "duration": 0.1445,
     "end_time": "2024-03-29T14:39:19.556698",
     "exception": false,
     "start_time": "2024-03-29T14:39:19.412198",
     "status": "completed"
    },
    "tags": []
   },
   "outputs": [],
   "source": [
    "from sklearn.model_selection import StratifiedKFold\n",
    "\n",
    "# Initialize StratifiedKFold to divide the data into 'num_folds' folds with shuffling\n",
    "skf = StratifiedKFold(n_splits=CFG.num_folds, shuffle=True, random_state=CFG.seed)\n",
    "\n",
    "# Reset the index of the DataFrame to ensure consistent data access\n",
    "df = df.reset_index(drop=True)\n",
    "\n",
    "# Initialize a 'fold' column in the DataFrame to track which fold each row belongs to\n",
    "# Start with a default value of 0 to indicate that no fold has been assigned yet\n",
    "df[\"fold\"] = 0\n",
    "\n",
    "# Assign each instance in the DataFrame to one of the folds\n",
    "# 'skf.split' yields indices for the train and validation sets for each fold\n",
    "# Here, we only need the validation set indices to assign folds\n",
    "for fold, (_, val_idx) in enumerate(skf.split(X=df, y=df[\"label\"])):\n",
    "    # Assign the fold number (+1 for human-readable fold numbering, starting from 1 instead of 0)\n",
    "    df.loc[val_idx, \"fold\"] = fold + 1"
   ]
  },
  {
   "cell_type": "code",
   "execution_count": 14,
   "id": "31ed6d8d",
   "metadata": {
    "execution": {
     "iopub.execute_input": "2024-03-29T14:39:19.577206Z",
     "iopub.status.busy": "2024-03-29T14:39:19.576847Z",
     "iopub.status.idle": "2024-03-29T14:39:20.017287Z",
     "shell.execute_reply": "2024-03-29T14:39:20.016264Z"
    },
    "papermill": {
     "duration": 0.453208,
     "end_time": "2024-03-29T14:39:20.019714",
     "exception": false,
     "start_time": "2024-03-29T14:39:19.566506",
     "status": "completed"
    },
    "tags": []
   },
   "outputs": [
    {
     "data": {
      "image/png": "[encoded data removed]",
      "text/plain": [
       "<Figure size 1000x600 with 1 Axes>"
      ]
     },
     "metadata": {},
     "output_type": "display_data"
    }
   ],
   "source": [
    "# Visualize the distribution of labels within each fold\n",
    "# This helps to verify that the stratification works as intended by showing a balanced distribution\n",
    "label_distribution = df.groupby([\"fold\", \"label\"]).size()\n",
    "\n",
    "ax = label_distribution.unstack().plot(kind=\"bar\", figsize=(10, 6))\n",
    "plt.title(\"Label Distribution Across Folds\")\n",
    "plt.xlabel(\"Fold\")\n",
    "plt.ylabel(\"Count\")\n",
    "plt.xticks(rotation=0)\n",
    "plt.legend(labels=[\"(0) Human\", \"(1) AI\"], loc=\"lower right\")\n",
    "plt.tight_layout()\n",
    "\n",
    "# Annotating each bar with its respective count\n",
    "for p in ax.patches:\n",
    "    ax.annotate(\n",
    "        f\"{p.get_height()}\",\n",
    "        (\n",
    "            p.get_x() + p.get_width() / 2.0,\n",
    "            p.get_height(),\n",
    "        ),\n",
    "        ha=\"center\",\n",
    "        va=\"center\",\n",
    "        xytext=(0, 7),\n",
    "        textcoords=\"offset points\",\n",
    "    )\n",
    "\n",
    "plt.show()"
   ]
  },
  {
   "cell_type": "code",
   "execution_count": 15,
   "id": "64ae918d",
   "metadata": {
    "execution": {
     "iopub.execute_input": "2024-03-29T14:39:20.043934Z",
     "iopub.status.busy": "2024-03-29T14:39:20.043574Z",
     "iopub.status.idle": "2024-03-29T14:39:20.965480Z",
     "shell.execute_reply": "2024-03-29T14:39:20.964688Z"
    },
    "papermill": {
     "duration": 0.936496,
     "end_time": "2024-03-29T14:39:20.967797",
     "exception": false,
     "start_time": "2024-03-29T14:39:20.031301",
     "status": "completed"
    },
    "tags": []
   },
   "outputs": [
    {
     "name": "stdout",
     "output_type": "stream",
     "text": [
      "Downloading data from https://storage.googleapis.com/keras-nlp/models/deberta_v3_base_en/v1/vocab.spm\n",
      "\u001b[1m2464616/2464616\u001b[0m \u001b[32m━━━━━━━━━━━━━━━━━━━━\u001b[0m\u001b[37m\u001b[0m \u001b[1m0s\u001b[0m 0us/step       \n"
     ]
    }
   ],
   "source": [
    "# Initialize a preprocessor for the DebertaV3 model\n",
    "# The preprocessor is configured according to settings defined in the CFG class\n",
    "preprocessor = keras_nlp.models.DebertaV3Preprocessor.from_preset(\n",
    "    preset=CFG.preset,\n",
    "    sequence_length=CFG.sequence_length,\n",
    ")"
   ]
  },
  {
   "cell_type": "code",
   "execution_count": 16,
   "id": "bc0ff51d",
   "metadata": {
    "execution": {
     "iopub.execute_input": "2024-03-29T14:39:20.989393Z",
     "iopub.status.busy": "2024-03-29T14:39:20.989026Z",
     "iopub.status.idle": "2024-03-29T14:39:20.994163Z",
     "shell.execute_reply": "2024-03-29T14:39:20.993305Z"
    },
    "papermill": {
     "duration": 0.017498,
     "end_time": "2024-03-29T14:39:20.995996",
     "exception": false,
     "start_time": "2024-03-29T14:39:20.978498",
     "status": "completed"
    },
    "tags": []
   },
   "outputs": [],
   "source": [
    "def preprocess_fn(text, label=None):\n",
    "    \"\"\"\n",
    "    Preprocesses the given text using a predefined preprocessor.\n",
    "\n",
    "    Parameters:\n",
    "    - text: The text to be preprocessed.\n",
    "    - label: An optional label for the text.\n",
    "\n",
    "    Returns:\n",
    "    - A tuple of (preprocessed_text, label) if label is provided.\n",
    "    \"\"\"\n",
    "    # Apply the preprocessor to the input text\n",
    "    preprocessed_text = preprocessor(text)\n",
    "\n",
    "    # Return a tuple of the preprocessed text and label if label is provided;\n",
    "    # otherwise, return only the preprocessed text.\n",
    "    return (preprocessed_text, label) if label is not None else preprocessed_text"
   ]
  },
  {
   "cell_type": "code",
   "execution_count": 17,
   "id": "be2ada13",
   "metadata": {
    "execution": {
     "iopub.execute_input": "2024-03-29T14:39:21.016466Z",
     "iopub.status.busy": "2024-03-29T14:39:21.016171Z",
     "iopub.status.idle": "2024-03-29T14:39:21.025004Z",
     "shell.execute_reply": "2024-03-29T14:39:21.024181Z"
    },
    "papermill": {
     "duration": 0.021254,
     "end_time": "2024-03-29T14:39:21.026870",
     "exception": false,
     "start_time": "2024-03-29T14:39:21.005616",
     "status": "completed"
    },
    "tags": []
   },
   "outputs": [],
   "source": [
    "def build_dataset(\n",
    "    texts,\n",
    "    labels=None,\n",
    "    repeat=False,\n",
    "    shuffle=False,\n",
    "    cache=CFG.cache,\n",
    "    batch_size=CFG.batch_size,\n",
    "):\n",
    "    \"\"\"\n",
    "    Builds a TensorFlow dataset for text (and optionally labels) with various processing steps including\n",
    "    caching, shuffling, batching, and prefetching.\n",
    "\n",
    "    Parameters:\n",
    "    - texts: Iterable of texts to be processed.\n",
    "    - labels: Optional iterable of labels corresponding to the texts.\n",
    "    - repeat: Whether to repeat the dataset indefinitely.\n",
    "    - shuffle: Whether to shuffle the dataset.\n",
    "    - cache: Whether to cache the dataset after loading.\n",
    "    - batch_size: Number of samples per batch.\n",
    "\n",
    "    Returns:\n",
    "    - A TensorFlow Dataset object ready for training or inference.\n",
    "    \"\"\"\n",
    "    # Automatically tune the performance configuration\n",
    "    AUTO = tf.data.AUTOTUNE\n",
    "\n",
    "    # Prepare data slices from inputs, depending on whether labels are provided\n",
    "    slices = (texts,) if labels is None else (texts, labels)\n",
    "\n",
    "    # Create a TensorFlow Dataset from the data slices\n",
    "    ds = tf.data.Dataset.from_tensor_slices(slices)\n",
    "\n",
    "    # Cache the dataset if caching is enabled\n",
    "    if cache:\n",
    "        ds = ds.cache()\n",
    "\n",
    "    # Apply preprocessing function to the dataset elements\n",
    "    ds = ds.map(preprocess_fn, num_parallel_calls=AUTO)\n",
    "\n",
    "    # Repeat the dataset if repetition is enabled\n",
    "    if repeat:\n",
    "        ds = ds.repeat()\n",
    "\n",
    "    # Shuffle the dataset if shuffling is enabled, and configure the dataset for performance\n",
    "    if shuffle:\n",
    "        ds = ds.shuffle(buffer_size=10000, seed=CFG.seed)\n",
    "        options = tf.data.Options()\n",
    "        options.experimental_deterministic = (\n",
    "            False  # Disable deterministic ordering to improve performance\n",
    "        )\n",
    "        ds = ds.with_options(options)\n",
    "\n",
    "    # Batch the dataset with the specified batch size, dropping any remainder for consistent batch sizes\n",
    "    ds = ds.batch(batch_size=batch_size, drop_remainder=True)\n",
    "\n",
    "    # Prefetch the next batch while the current batch is being processed to improve performance\n",
    "    ds = ds.prefetch(AUTO)\n",
    "\n",
    "    return ds"
   ]
  },
  {
   "cell_type": "code",
   "execution_count": 18,
   "id": "5b6dd9ed",
   "metadata": {
    "execution": {
     "iopub.execute_input": "2024-03-29T14:39:21.047685Z",
     "iopub.status.busy": "2024-03-29T14:39:21.047042Z",
     "iopub.status.idle": "2024-03-29T14:39:21.054108Z",
     "shell.execute_reply": "2024-03-29T14:39:21.053319Z"
    },
    "papermill": {
     "duration": 0.01931,
     "end_time": "2024-03-29T14:39:21.055945",
     "exception": false,
     "start_time": "2024-03-29T14:39:21.036635",
     "status": "completed"
    },
    "tags": []
   },
   "outputs": [],
   "source": [
    "def get_datasets(fold):\n",
    "    \"\"\"\n",
    "    Prepares training and validation datasets for a specified fold.\n",
    "\n",
    "    Parameters:\n",
    "    - fold: The fold number to use as validation set, with the remaining folds used for training.\n",
    "\n",
    "    Returns:\n",
    "    - A tuple containing two tuples: (training dataset, training DataFrame) and\n",
    "                                     (validation dataset, validation DataFrame).\n",
    "    \"\"\"\n",
    "    # Prepare training data: select all instances not in the current fold and shuffle\n",
    "    train_df = df[df.fold != fold].sample(frac=1, random_state=CFG.seed)\n",
    "    train_texts = train_df.text.tolist()  # Extract texts for training\n",
    "    train_labels = train_df.label.tolist()  # Extract labels for training\n",
    "\n",
    "    # Build the training dataset with repetition enabled for multiple epochs\n",
    "    train_ds = build_dataset(train_texts, train_labels, repeat=True)\n",
    "\n",
    "    # Prepare validation data: select instances in the current fold and shuffle\n",
    "    valid_df = df[df.fold == fold].sample(frac=1, random_state=CFG.seed)\n",
    "    valid_texts = valid_df.text.tolist()  # Extract texts for validation\n",
    "    valid_labels = valid_df.label.tolist()  # Extract labels for validation\n",
    "\n",
    "    # Build the validation dataset without repetition (typically not needed for validation)\n",
    "    valid_ds = build_dataset(valid_texts, valid_labels, repeat=False)\n",
    "\n",
    "    # Return datasets along with their corresponding DataFrames\n",
    "    return (train_ds, train_df), (valid_ds, valid_df)"
   ]
  },
  {
   "cell_type": "code",
   "execution_count": 19,
   "id": "15b25b97",
   "metadata": {
    "execution": {
     "iopub.execute_input": "2024-03-29T14:39:21.078280Z",
     "iopub.status.busy": "2024-03-29T14:39:21.077940Z",
     "iopub.status.idle": "2024-03-29T14:39:21.085313Z",
     "shell.execute_reply": "2024-03-29T14:39:21.084415Z"
    },
    "papermill": {
     "duration": 0.020434,
     "end_time": "2024-03-29T14:39:21.087478",
     "exception": false,
     "start_time": "2024-03-29T14:39:21.067044",
     "status": "completed"
    },
    "tags": []
   },
   "outputs": [],
   "source": [
    "def build_model():\n",
    "    \"\"\"\n",
    "    Builds and compiles a DebertaV3Classifier model with a sigmoid activation\n",
    "    on the final layer for binary classification.\n",
    "\n",
    "    Returns:\n",
    "    - A compiled Keras model ready for training.\n",
    "    \"\"\"\n",
    "    # Initialize a DebertaV3Classifier model from a preset configuration,\n",
    "    # specifying the number of classes for binary classification.\n",
    "    classifier = keras_nlp.models.DebertaV3Classifier.from_preset(\n",
    "        CFG.preset,\n",
    "        preprocessor=None,  # Assuming preprocessing is handled externally\n",
    "        num_classes=1,  # For binary classification\n",
    "    )\n",
    "    \n",
    "    # Define the model inputs and logits based on the classifier\n",
    "    inputs = classifier.input\n",
    "    logits = classifier(inputs)\n",
    "\n",
    "    # Add a sigmoid activation layer to convert logits to probabilities\n",
    "    outputs = keras.layers.Activation(\"sigmoid\")(logits)\n",
    "\n",
    "    # Instantiate the final model object\n",
    "    model = keras.Model(inputs, outputs)\n",
    "\n",
    "    # Compile the model with an AdamW optimizer and binary crossentropy loss,\n",
    "    # including AUC as a metric and enabling JIT compilation for performance.\n",
    "    model.compile(\n",
    "        optimizer=keras.optimizers.AdamW(learning_rate=5e-6),\n",
    "        loss=keras.losses.BinaryCrossentropy(label_smoothing=0.02),\n",
    "        metrics=[keras.metrics.AUC(name=\"auc\")],\n",
    "        jit_compile=True  # Enable XLA compilation for improved performance\n",
    "    )\n",
    "\n",
    "    return model"
   ]
  },
  {
   "cell_type": "code",
   "execution_count": 20,
   "id": "397ecb5e",
   "metadata": {
    "_kg_hide-input": true,
    "execution": {
     "iopub.execute_input": "2024-03-29T14:39:21.111726Z",
     "iopub.status.busy": "2024-03-29T14:39:21.111400Z",
     "iopub.status.idle": "2024-03-29T14:39:35.225081Z",
     "shell.execute_reply": "2024-03-29T14:39:35.223996Z"
    },
    "papermill": {
     "duration": 14.128086,
     "end_time": "2024-03-29T14:39:35.227230",
     "exception": false,
     "start_time": "2024-03-29T14:39:21.099144",
     "status": "completed"
    },
    "tags": []
   },
   "outputs": [
    {
     "name": "stdout",
     "output_type": "stream",
     "text": [
      "Downloading data from https://storage.googleapis.com/keras-nlp/models/deberta_v3_base_en/v1/model.h5\n",
      "\u001b[1m735557816/735557816\u001b[0m \u001b[32m━━━━━━━━━━━━━━━━━━━━\u001b[0m\u001b[37m\u001b[0m \u001b[1m7s\u001b[0m 0us/step\n"
     ]
    },
    {
     "data": {
      "text/html": [
       "<pre style=\"white-space:pre;overflow-x:auto;line-height:normal;font-family:Menlo,'DejaVu Sans Mono',consolas,'Courier New',monospace\"><span style=\"font-weight: bold\">Model: \"functional_1\"</span>\n",
       "</pre>\n"
      ],
      "text/plain": [
       "\u001b[1mModel: \"functional_1\"\u001b[0m\n"
      ]
     },
     "metadata": {},
     "output_type": "display_data"
    },
    {
     "data": {
      "text/html": [
       "<pre style=\"white-space:pre;overflow-x:auto;line-height:normal;font-family:Menlo,'DejaVu Sans Mono',consolas,'Courier New',monospace\">┏━━━━━━━━━━━━━━━━━━━━━┳━━━━━━━━━━━━━━━━━━━┳━━━━━━━━━┳━━━━━━━━━━━━━━━━━━━━━━┓\n",
       "┃<span style=\"font-weight: bold\"> Layer (type)        </span>┃<span style=\"font-weight: bold\"> Output Shape      </span>┃<span style=\"font-weight: bold\"> Param # </span>┃<span style=\"font-weight: bold\"> Connected to         </span>┃\n",
       "┡━━━━━━━━━━━━━━━━━━━━━╇━━━━━━━━━━━━━━━━━━━╇━━━━━━━━━╇━━━━━━━━━━━━━━━━━━━━━━┩\n",
       "│ padding_mask        │ (<span style=\"color: #00d7ff; text-decoration-color: #00d7ff\">None</span>, <span style=\"color: #00d7ff; text-decoration-color: #00d7ff\">None</span>)      │       <span style=\"color: #00af00; text-decoration-color: #00af00\">0</span> │ -                    │\n",
       "│ (<span style=\"color: #0087ff; text-decoration-color: #0087ff\">InputLayer</span>)        │                   │         │                      │\n",
       "├─────────────────────┼───────────────────┼─────────┼──────────────────────┤\n",
       "│ token_ids           │ (<span style=\"color: #00d7ff; text-decoration-color: #00d7ff\">None</span>, <span style=\"color: #00d7ff; text-decoration-color: #00d7ff\">None</span>)      │       <span style=\"color: #00af00; text-decoration-color: #00af00\">0</span> │ -                    │\n",
       "│ (<span style=\"color: #0087ff; text-decoration-color: #0087ff\">InputLayer</span>)        │                   │         │                      │\n",
       "├─────────────────────┼───────────────────┼─────────┼──────────────────────┤\n",
       "│ deberta_v3_classif… │ (<span style=\"color: #00d7ff; text-decoration-color: #00d7ff\">None</span>, <span style=\"color: #00af00; text-decoration-color: #00af00\">1</span>)         │ <span style=\"color: #00af00; text-decoration-color: #00af00\">184,42…</span> │ padding_mask[<span style=\"color: #00af00; text-decoration-color: #00af00\">0</span>][<span style=\"color: #00af00; text-decoration-color: #00af00\">0</span>],  │\n",
       "│ (<span style=\"color: #0087ff; text-decoration-color: #0087ff\">DebertaV3Classifi…</span> │                   │         │ token_ids[<span style=\"color: #00af00; text-decoration-color: #00af00\">0</span>][<span style=\"color: #00af00; text-decoration-color: #00af00\">0</span>]      │\n",
       "├─────────────────────┼───────────────────┼─────────┼──────────────────────┤\n",
       "│ activation          │ (<span style=\"color: #00d7ff; text-decoration-color: #00d7ff\">None</span>, <span style=\"color: #00af00; text-decoration-color: #00af00\">1</span>)         │       <span style=\"color: #00af00; text-decoration-color: #00af00\">0</span> │ deberta_v3_classifi… │\n",
       "│ (<span style=\"color: #0087ff; text-decoration-color: #0087ff\">Activation</span>)        │                   │         │                      │\n",
       "└─────────────────────┴───────────────────┴─────────┴──────────────────────┘\n",
       "</pre>\n"
      ],
      "text/plain": [
       "┏━━━━━━━━━━━━━━━━━━━━━┳━━━━━━━━━━━━━━━━━━━┳━━━━━━━━━┳━━━━━━━━━━━━━━━━━━━━━━┓\n",
       "┃\u001b[1m \u001b[0m\u001b[1mLayer (type)       \u001b[0m\u001b[1m \u001b[0m┃\u001b[1m \u001b[0m\u001b[1mOutput Shape     \u001b[0m\u001b[1m \u001b[0m┃\u001b[1m \u001b[0m\u001b[1mParam #\u001b[0m\u001b[1m \u001b[0m┃\u001b[1m \u001b[0m\u001b[1mConnected to        \u001b[0m\u001b[1m \u001b[0m┃\n",
       "┡━━━━━━━━━━━━━━━━━━━━━╇━━━━━━━━━━━━━━━━━━━╇━━━━━━━━━╇━━━━━━━━━━━━━━━━━━━━━━┩\n",
       "│ padding_mask        │ (\u001b[38;5;45mNone\u001b[0m, \u001b[38;5;45mNone\u001b[0m)      │       \u001b[38;5;34m0\u001b[0m │ -                    │\n",
       "│ (\u001b[38;5;33mInputLayer\u001b[0m)        │                   │         │                      │\n",
       "├─────────────────────┼───────────────────┼─────────┼──────────────────────┤\n",
       "│ token_ids           │ (\u001b[38;5;45mNone\u001b[0m, \u001b[38;5;45mNone\u001b[0m)      │       \u001b[38;5;34m0\u001b[0m │ -                    │\n",
       "│ (\u001b[38;5;33mInputLayer\u001b[0m)        │                   │         │                      │\n",
       "├─────────────────────┼───────────────────┼─────────┼──────────────────────┤\n",
       "│ deberta_v3_classif… │ (\u001b[38;5;45mNone\u001b[0m, \u001b[38;5;34m1\u001b[0m)         │ \u001b[38;5;34m184,42…\u001b[0m │ padding_mask[\u001b[38;5;34m0\u001b[0m][\u001b[38;5;34m0\u001b[0m],  │\n",
       "│ (\u001b[38;5;33mDebertaV3Classifi…\u001b[0m │                   │         │ token_ids[\u001b[38;5;34m0\u001b[0m][\u001b[38;5;34m0\u001b[0m]      │\n",
       "├─────────────────────┼───────────────────┼─────────┼──────────────────────┤\n",
       "│ activation          │ (\u001b[38;5;45mNone\u001b[0m, \u001b[38;5;34m1\u001b[0m)         │       \u001b[38;5;34m0\u001b[0m │ deberta_v3_classifi… │\n",
       "│ (\u001b[38;5;33mActivation\u001b[0m)        │                   │         │                      │\n",
       "└─────────────────────┴───────────────────┴─────────┴──────────────────────┘\n"
      ]
     },
     "metadata": {},
     "output_type": "display_data"
    },
    {
     "data": {
      "text/html": [
       "<pre style=\"white-space:pre;overflow-x:auto;line-height:normal;font-family:Menlo,'DejaVu Sans Mono',consolas,'Courier New',monospace\"><span style=\"font-weight: bold\"> Total params: </span><span style=\"color: #00af00; text-decoration-color: #00af00\">184,422,913</span> (703.52 MB)\n",
       "</pre>\n"
      ],
      "text/plain": [
       "\u001b[1m Total params: \u001b[0m\u001b[38;5;34m184,422,913\u001b[0m (703.52 MB)\n"
      ]
     },
     "metadata": {},
     "output_type": "display_data"
    },
    {
     "data": {
      "text/html": [
       "<pre style=\"white-space:pre;overflow-x:auto;line-height:normal;font-family:Menlo,'DejaVu Sans Mono',consolas,'Courier New',monospace\"><span style=\"font-weight: bold\"> Trainable params: </span><span style=\"color: #00af00; text-decoration-color: #00af00\">184,422,913</span> (703.52 MB)\n",
       "</pre>\n"
      ],
      "text/plain": [
       "\u001b[1m Trainable params: \u001b[0m\u001b[38;5;34m184,422,913\u001b[0m (703.52 MB)\n"
      ]
     },
     "metadata": {},
     "output_type": "display_data"
    },
    {
     "data": {
      "text/html": [
       "<pre style=\"white-space:pre;overflow-x:auto;line-height:normal;font-family:Menlo,'DejaVu Sans Mono',consolas,'Courier New',monospace\"><span style=\"font-weight: bold\"> Non-trainable params: </span><span style=\"color: #00af00; text-decoration-color: #00af00\">0</span> (0.00 B)\n",
       "</pre>\n"
      ],
      "text/plain": [
       "\u001b[1m Non-trainable params: \u001b[0m\u001b[38;5;34m0\u001b[0m (0.00 B)\n"
      ]
     },
     "metadata": {},
     "output_type": "display_data"
    }
   ],
   "source": [
    "model = build_model()\n",
    "\n",
    "model.summary()"
   ]
  },
  {
   "cell_type": "code",
   "execution_count": 21,
   "id": "1d0d4f24",
   "metadata": {
    "_kg_hide-input": true,
    "execution": {
     "iopub.execute_input": "2024-03-29T14:39:35.263049Z",
     "iopub.status.busy": "2024-03-29T14:39:35.262762Z",
     "iopub.status.idle": "2024-03-29T14:39:35.526031Z",
     "shell.execute_reply": "2024-03-29T14:39:35.525122Z"
    },
    "papermill": {
     "duration": 0.283622,
     "end_time": "2024-03-29T14:39:35.528420",
     "exception": false,
     "start_time": "2024-03-29T14:39:35.244798",
     "status": "completed"
    },
    "tags": []
   },
   "outputs": [
    {
     "data": {
      "image/png": "[encoded data removed]",
      "text/plain": [
       "<IPython.core.display.Image object>"
      ]
     },
     "execution_count": 21,
     "metadata": {},
     "output_type": "execute_result"
    }
   ],
   "source": [
    "keras.utils.plot_model(model, show_shapes=True)"
   ]
  },
  {
   "cell_type": "code",
   "execution_count": 22,
   "id": "afc16a0d",
   "metadata": {
    "execution": {
     "iopub.execute_input": "2024-03-29T14:39:35.565776Z",
     "iopub.status.busy": "2024-03-29T14:39:35.565463Z",
     "iopub.status.idle": "2024-03-29T14:39:35.576079Z",
     "shell.execute_reply": "2024-03-29T14:39:35.575328Z"
    },
    "papermill": {
     "duration": 0.03099,
     "end_time": "2024-03-29T14:39:35.577899",
     "exception": false,
     "start_time": "2024-03-29T14:39:35.546909",
     "status": "completed"
    },
    "tags": []
   },
   "outputs": [],
   "source": [
    "def cv_train(fold):\n",
    "    \"\"\"\n",
    "    Trains a model for a given fold, evaluates it on the validation dataset,\n",
    "    and prints out the training information and validation results.\n",
    "\n",
    "    Parameters:\n",
    "    - fold: The fold number (int) to train and validate the model on.\n",
    "\n",
    "    Returns:\n",
    "    - Tuple of (best_epoch, val_auc, val_loss, accuracy) for the fold.\n",
    "    \"\"\"\n",
    "    # Retrieve training and validation datasets\n",
    "    (train_ds, train_df), (valid_ds, valid_df) = get_datasets(fold)\n",
    "\n",
    "    # Display training information\n",
    "    print(f'{\"=\" * 15} Training Fold {fold} {\"=\" * 15}')\n",
    "    print(f\"Model: {CFG.preset} | Batch Size: {CFG.batch_size * CFG.replicas}\")\n",
    "    print(f\"Amount train: {len(train_df)} | Amount valid: {len(valid_df)}\")\n",
    "\n",
    "    # Clear previous TensorFlow session to free resources and avoid clutter\n",
    "    K.clear_session()\n",
    "\n",
    "    # Build the model within the distributed strategy scope, if applicable\n",
    "    with strategy.scope():\n",
    "        model = build_model()\n",
    "\n",
    "    # Execute model training\n",
    "    history = model.fit(\n",
    "        train_ds,\n",
    "        epochs=CFG.epochs,\n",
    "        validation_data=valid_ds,\n",
    "        steps_per_epoch=int(len(train_df) / (CFG.batch_size * CFG.replicas)),\n",
    "    )\n",
    "\n",
    "    # Determine the best epoch based on validation AUC\n",
    "    best_epoch = np.argmax(history.history[\"val_auc\"])\n",
    "    val_auc = history.history[\"val_auc\"][best_epoch]\n",
    "    val_loss = history.history[\"val_loss\"][best_epoch]\n",
    "\n",
    "    # Validation step\n",
    "    print(f'\\n{\"=\" * 15} Validating Fold {fold} {\"=\" * 15}')\n",
    "    predictions = model.predict(valid_ds, batch_size=CFG.batch_size * CFG.replicas)\n",
    "\n",
    "    # Calculate and print validation accuracy\n",
    "    predicted_labels = (predictions > 0.5).astype(int).squeeze()\n",
    "    actual_labels = valid_df.label.values[: len(predicted_labels)]\n",
    "    accuracy = np.mean(predicted_labels == actual_labels)\n",
    "\n",
    "    # Print fold results\n",
    "    print(f'\\n{\"=\" * 15} Fold {fold} Results {\"=\" * 15}')\n",
    "    print(f\"Best Epoch: {best_epoch + 1}\")\n",
    "    print(f\"Valid AUC: {val_auc:.4f} | Valid Loss: {val_loss:.4f} | Accuracy: {accuracy:.4f}\")\n",
    "\n",
    "    return best_epoch + 1, val_auc, val_loss, accuracy"
   ]
  },
  {
   "cell_type": "code",
   "execution_count": 23,
   "id": "d3ba5914",
   "metadata": {
    "execution": {
     "iopub.execute_input": "2024-03-29T14:39:35.615037Z",
     "iopub.status.busy": "2024-03-29T14:39:35.614751Z",
     "iopub.status.idle": "2024-03-29T15:23:14.735109Z",
     "shell.execute_reply": "2024-03-29T15:23:14.734145Z"
    },
    "papermill": {
     "duration": 2619.141615,
     "end_time": "2024-03-29T15:23:14.737643",
     "exception": false,
     "start_time": "2024-03-29T14:39:35.596028",
     "status": "completed"
    },
    "tags": []
   },
   "outputs": [
    {
     "name": "stdout",
     "output_type": "stream",
     "text": [
      "=============== Training Fold 1 ===============\n",
      "Model: deberta_v3_base_en | Batch Size: 10\n",
      "Amount train: 23448 | Amount valid: 5862\n",
      "Epoch 1/3\n",
      "\u001b[1m2344/2344\u001b[0m \u001b[32m━━━━━━━━━━━━━━━━━━━━\u001b[0m\u001b[37m\u001b[0m \u001b[1m860s\u001b[0m 354ms/step - auc: 0.9818 - loss: 0.1658 - val_auc: 0.9973 - val_loss: 0.1246\n",
      "Epoch 2/3\n",
      "\u001b[1m2344/2344\u001b[0m \u001b[32m━━━━━━━━━━━━━━━━━━━━\u001b[0m\u001b[37m\u001b[0m \u001b[1m826s\u001b[0m 352ms/step - auc: 0.9988 - loss: 0.0718 - val_auc: 0.9988 - val_loss: 0.0982\n",
      "Epoch 3/3\n",
      "\u001b[1m2344/2344\u001b[0m \u001b[32m━━━━━━━━━━━━━━━━━━━━\u001b[0m\u001b[37m\u001b[0m \u001b[1m826s\u001b[0m 352ms/step - auc: 0.9993 - loss: 0.0672 - val_auc: 0.9990 - val_loss: 0.0885\n",
      "\n",
      "=============== Validating Fold 1 ===============\n",
      "\u001b[1m586/586\u001b[0m \u001b[32m━━━━━━━━━━━━━━━━━━━━\u001b[0m\u001b[37m\u001b[0m \u001b[1m65s\u001b[0m 101ms/step\n",
      "\n",
      "=============== Fold 1 Results ===============\n",
      "Best Epoch: 3\n",
      "Valid AUC: 0.9990 | Valid Loss: 0.0885 | Accuracy: 0.9884\n"
     ]
    }
   ],
   "source": [
    "fold_1_results = cv_train(fold=1)"
   ]
  },
  {
   "cell_type": "code",
   "execution_count": 24,
   "id": "b7a21961",
   "metadata": {
    "execution": {
     "iopub.execute_input": "2024-03-29T15:23:16.049178Z",
     "iopub.status.busy": "2024-03-29T15:23:16.048800Z",
     "iopub.status.idle": "2024-03-29T16:06:23.602085Z",
     "shell.execute_reply": "2024-03-29T16:06:23.600938Z"
    },
    "papermill": {
     "duration": 2588.184623,
     "end_time": "2024-03-29T16:06:23.604565",
     "exception": false,
     "start_time": "2024-03-29T15:23:15.419942",
     "status": "completed"
    },
    "tags": []
   },
   "outputs": [
    {
     "name": "stdout",
     "output_type": "stream",
     "text": [
      "=============== Training Fold 2 ===============\n",
      "Model: deberta_v3_base_en | Batch Size: 10\n",
      "Amount train: 23448 | Amount valid: 5862\n",
      "Epoch 1/3\n",
      "\u001b[1m2344/2344\u001b[0m \u001b[32m━━━━━━━━━━━━━━━━━━━━\u001b[0m\u001b[37m\u001b[0m \u001b[1m859s\u001b[0m 355ms/step - auc: 0.9821 - loss: 0.1648 - val_auc: 0.9982 - val_loss: 0.0899\n",
      "Epoch 2/3\n",
      "\u001b[1m2344/2344\u001b[0m \u001b[32m━━━━━━━━━━━━━━━━━━━━\u001b[0m\u001b[37m\u001b[0m \u001b[1m827s\u001b[0m 353ms/step - auc: 0.9989 - loss: 0.0726 - val_auc: 0.9974 - val_loss: 0.0947\n",
      "Epoch 3/3\n",
      "\u001b[1m2344/2344\u001b[0m \u001b[32m━━━━━━━━━━━━━━━━━━━━\u001b[0m\u001b[37m\u001b[0m \u001b[1m829s\u001b[0m 354ms/step - auc: 0.9992 - loss: 0.0672 - val_auc: 0.9982 - val_loss: 0.0997\n",
      "\n",
      "=============== Validating Fold 2 ===============\n",
      "\u001b[1m586/586\u001b[0m \u001b[32m━━━━━━━━━━━━━━━━━━━━\u001b[0m\u001b[37m\u001b[0m \u001b[1m65s\u001b[0m 101ms/step\n",
      "\n",
      "=============== Fold 2 Results ===============\n",
      "Best Epoch: 3\n",
      "Valid AUC: 0.9982 | Valid Loss: 0.0997 | Accuracy: 0.9829\n"
     ]
    }
   ],
   "source": [
    "fold_2_results = cv_train(fold=2)"
   ]
  },
  {
   "cell_type": "code",
   "execution_count": 25,
   "id": "8c13bed4",
   "metadata": {
    "execution": {
     "iopub.execute_input": "2024-03-29T16:06:26.255857Z",
     "iopub.status.busy": "2024-03-29T16:06:26.254954Z",
     "iopub.status.idle": "2024-03-29T16:49:50.988646Z",
     "shell.execute_reply": "2024-03-29T16:49:50.987517Z"
    },
    "papermill": {
     "duration": 2606.050018,
     "end_time": "2024-03-29T16:49:50.990734",
     "exception": false,
     "start_time": "2024-03-29T16:06:24.940716",
     "status": "completed"
    },
    "tags": []
   },
   "outputs": [
    {
     "name": "stdout",
     "output_type": "stream",
     "text": [
      "=============== Training Fold 3 ===============\n",
      "Model: deberta_v3_base_en | Batch Size: 10\n",
      "Amount train: 23448 | Amount valid: 5862\n",
      "Epoch 1/3\n",
      "\u001b[1m2344/2344\u001b[0m \u001b[32m━━━━━━━━━━━━━━━━━━━━\u001b[0m\u001b[37m\u001b[0m \u001b[1m862s\u001b[0m 355ms/step - auc: 0.9775 - loss: 0.1703 - val_auc: 0.9979 - val_loss: 0.0769\n",
      "Epoch 2/3\n",
      "\u001b[1m2344/2344\u001b[0m \u001b[32m━━━━━━━━━━━━━━━━━━━━\u001b[0m\u001b[37m\u001b[0m \u001b[1m827s\u001b[0m 353ms/step - auc: 0.9987 - loss: 0.0715 - val_auc: 0.9985 - val_loss: 0.0738\n",
      "Epoch 3/3\n",
      "\u001b[1m2344/2344\u001b[0m \u001b[32m━━━━━━━━━━━━━━━━━━━━\u001b[0m\u001b[37m\u001b[0m \u001b[1m827s\u001b[0m 353ms/step - auc: 0.9991 - loss: 0.0679 - val_auc: 0.9985 - val_loss: 0.0831\n",
      "\n",
      "=============== Validating Fold 3 ===============\n",
      "\u001b[1m586/586\u001b[0m \u001b[32m━━━━━━━━━━━━━━━━━━━━\u001b[0m\u001b[37m\u001b[0m \u001b[1m82s\u001b[0m 130ms/step\n",
      "\n",
      "=============== Fold 3 Results ===============\n",
      "Best Epoch: 2\n",
      "Valid AUC: 0.9985 | Valid Loss: 0.0738 | Accuracy: 0.9906\n"
     ]
    }
   ],
   "source": [
    "fold_3_results = cv_train(fold=3)"
   ]
  },
  {
   "cell_type": "code",
   "execution_count": 26,
   "id": "5952d9ba",
   "metadata": {
    "execution": {
     "iopub.execute_input": "2024-03-29T16:49:54.868537Z",
     "iopub.status.busy": "2024-03-29T16:49:54.868124Z",
     "iopub.status.idle": "2024-03-29T17:33:05.837562Z",
     "shell.execute_reply": "2024-03-29T17:33:05.836625Z"
    },
    "papermill": {
     "duration": 2595.594756,
     "end_time": "2024-03-29T17:33:08.553969",
     "exception": false,
     "start_time": "2024-03-29T16:49:52.959213",
     "status": "completed"
    },
    "tags": []
   },
   "outputs": [
    {
     "name": "stdout",
     "output_type": "stream",
     "text": [
      "=============== Training Fold 4 ===============\n",
      "Model: deberta_v3_base_en | Batch Size: 10\n",
      "Amount train: 23448 | Amount valid: 5862\n",
      "Epoch 1/3\n",
      "\u001b[1m2344/2344\u001b[0m \u001b[32m━━━━━━━━━━━━━━━━━━━━\u001b[0m\u001b[37m\u001b[0m \u001b[1m862s\u001b[0m 356ms/step - auc: 0.9802 - loss: 0.1721 - val_auc: 0.9987 - val_loss: 0.0977\n",
      "Epoch 2/3\n",
      "\u001b[1m2344/2344\u001b[0m \u001b[32m━━━━━━━━━━━━━━━━━━━━\u001b[0m\u001b[37m\u001b[0m \u001b[1m828s\u001b[0m 353ms/step - auc: 0.9991 - loss: 0.0726 - val_auc: 0.9991 - val_loss: 0.0806\n",
      "Epoch 3/3\n",
      "\u001b[1m2344/2344\u001b[0m \u001b[32m━━━━━━━━━━━━━━━━━━━━\u001b[0m\u001b[37m\u001b[0m \u001b[1m828s\u001b[0m 353ms/step - auc: 0.9994 - loss: 0.0668 - val_auc: 0.9996 - val_loss: 0.0697\n",
      "\n",
      "=============== Validating Fold 4 ===============\n",
      "\u001b[1m586/586\u001b[0m \u001b[32m━━━━━━━━━━━━━━━━━━━━\u001b[0m\u001b[37m\u001b[0m \u001b[1m65s\u001b[0m 101ms/step\n",
      "\n",
      "=============== Fold 4 Results ===============\n",
      "Best Epoch: 3\n",
      "Valid AUC: 0.9996 | Valid Loss: 0.0697 | Accuracy: 0.9961\n"
     ]
    }
   ],
   "source": [
    "fold_4_results = cv_train(fold=4)"
   ]
  },
  {
   "cell_type": "code",
   "execution_count": 27,
   "id": "f0554f7c",
   "metadata": {
    "execution": {
     "iopub.execute_input": "2024-03-29T17:33:13.827612Z",
     "iopub.status.busy": "2024-03-29T17:33:13.826576Z",
     "iopub.status.idle": "2024-03-29T18:16:26.585712Z",
     "shell.execute_reply": "2024-03-29T18:16:26.584573Z"
    },
    "papermill": {
     "duration": 2595.393423,
     "end_time": "2024-03-29T18:16:26.588365",
     "exception": false,
     "start_time": "2024-03-29T17:33:11.194942",
     "status": "completed"
    },
    "tags": []
   },
   "outputs": [
    {
     "name": "stdout",
     "output_type": "stream",
     "text": [
      "=============== Training Fold 5 ===============\n",
      "Model: deberta_v3_base_en | Batch Size: 10\n",
      "Amount train: 23448 | Amount valid: 5862\n",
      "Epoch 1/3\n",
      "\u001b[1m2344/2344\u001b[0m \u001b[32m━━━━━━━━━━━━━━━━━━━━\u001b[0m\u001b[37m\u001b[0m \u001b[1m863s\u001b[0m 356ms/step - auc: 0.9762 - loss: 0.1877 - val_auc: 0.9979 - val_loss: 0.1250\n",
      "Epoch 2/3\n",
      "\u001b[1m2344/2344\u001b[0m \u001b[32m━━━━━━━━━━━━━━━━━━━━\u001b[0m\u001b[37m\u001b[0m \u001b[1m829s\u001b[0m 354ms/step - auc: 0.9990 - loss: 0.0720 - val_auc: 0.9990 - val_loss: 0.0858\n",
      "Epoch 3/3\n",
      "\u001b[1m2344/2344\u001b[0m \u001b[32m━━━━━━━━━━━━━━━━━━━━\u001b[0m\u001b[37m\u001b[0m \u001b[1m828s\u001b[0m 353ms/step - auc: 0.9992 - loss: 0.0683 - val_auc: 0.9990 - val_loss: 0.0846\n",
      "\n",
      "=============== Validating Fold 5 ===============\n",
      "\u001b[1m586/586\u001b[0m \u001b[32m━━━━━━━━━━━━━━━━━━━━\u001b[0m\u001b[37m\u001b[0m \u001b[1m65s\u001b[0m 101ms/step\n",
      "\n",
      "=============== Fold 5 Results ===============\n",
      "Best Epoch: 3\n",
      "Valid AUC: 0.9990 | Valid Loss: 0.0846 | Accuracy: 0.9903\n"
     ]
    }
   ],
   "source": [
    "fold_5_results = cv_train(fold=5)"
   ]
  },
  {
   "cell_type": "code",
   "execution_count": 28,
   "id": "d91d0798",
   "metadata": {
    "execution": {
     "iopub.execute_input": "2024-03-29T18:16:33.121560Z",
     "iopub.status.busy": "2024-03-29T18:16:33.121185Z",
     "iopub.status.idle": "2024-03-29T18:16:33.137184Z",
     "shell.execute_reply": "2024-03-29T18:16:33.136236Z"
    },
    "papermill": {
     "duration": 3.368826,
     "end_time": "2024-03-29T18:16:33.139442",
     "exception": false,
     "start_time": "2024-03-29T18:16:29.770616",
     "status": "completed"
    },
    "tags": []
   },
   "outputs": [
    {
     "data": {
      "text/html": [
       "<div>\n",
       "<style scoped>\n",
       "    .dataframe tbody tr th:only-of-type {\n",
       "        vertical-align: middle;\n",
       "    }\n",
       "\n",
       "    .dataframe tbody tr th {\n",
       "        vertical-align: top;\n",
       "    }\n",
       "\n",
       "    .dataframe thead th {\n",
       "        text-align: right;\n",
       "    }\n",
       "</style>\n",
       "<table border=\"1\" class=\"dataframe\">\n",
       "  <thead>\n",
       "    <tr style=\"text-align: right;\">\n",
       "      <th></th>\n",
       "      <th>fold</th>\n",
       "      <th>best_epoch</th>\n",
       "      <th>val_auc</th>\n",
       "      <th>val_loss</th>\n",
       "      <th>accuracy</th>\n",
       "    </tr>\n",
       "  </thead>\n",
       "  <tbody>\n",
       "    <tr>\n",
       "      <th>0</th>\n",
       "      <td>1</td>\n",
       "      <td>3</td>\n",
       "      <td>0.999048</td>\n",
       "      <td>0.088543</td>\n",
       "      <td>0.988396</td>\n",
       "    </tr>\n",
       "    <tr>\n",
       "      <th>1</th>\n",
       "      <td>2</td>\n",
       "      <td>3</td>\n",
       "      <td>0.998241</td>\n",
       "      <td>0.099726</td>\n",
       "      <td>0.982935</td>\n",
       "    </tr>\n",
       "    <tr>\n",
       "      <th>2</th>\n",
       "      <td>3</td>\n",
       "      <td>2</td>\n",
       "      <td>0.998550</td>\n",
       "      <td>0.073806</td>\n",
       "      <td>0.990614</td>\n",
       "    </tr>\n",
       "    <tr>\n",
       "      <th>3</th>\n",
       "      <td>4</td>\n",
       "      <td>3</td>\n",
       "      <td>0.999560</td>\n",
       "      <td>0.069685</td>\n",
       "      <td>0.996075</td>\n",
       "    </tr>\n",
       "    <tr>\n",
       "      <th>4</th>\n",
       "      <td>5</td>\n",
       "      <td>3</td>\n",
       "      <td>0.998976</td>\n",
       "      <td>0.084618</td>\n",
       "      <td>0.990273</td>\n",
       "    </tr>\n",
       "  </tbody>\n",
       "</table>\n",
       "</div>"
      ],
      "text/plain": [
       "   fold  best_epoch   val_auc  val_loss  accuracy\n",
       "0     1           3  0.999048  0.088543  0.988396\n",
       "1     2           3  0.998241  0.099726  0.982935\n",
       "2     3           2  0.998550  0.073806  0.990614\n",
       "3     4           3  0.999560  0.069685  0.996075\n",
       "4     5           3  0.998976  0.084618  0.990273"
      ]
     },
     "execution_count": 28,
     "metadata": {},
     "output_type": "execute_result"
    }
   ],
   "source": [
    "fold_results = pd.DataFrame(\n",
    "    data=[\n",
    "        fold_1_results,\n",
    "        fold_2_results,\n",
    "        fold_3_results,\n",
    "        fold_4_results,\n",
    "        fold_5_results,\n",
    "    ],\n",
    "    columns=[\"best_epoch\", \"val_auc\", \"val_loss\", \"accuracy\"],\n",
    ")\n",
    "\n",
    "fold_results.insert(0, \"fold\", range(1, len(fold_results) + 1))\n",
    "\n",
    "fold_results"
   ]
  }
 ],
 "metadata": {
  "kaggle": {
   "accelerator": "gpu",
   "dataSources": [
    {
     "datasetId": 3942644,
     "sourceId": 6890527,
     "sourceType": "datasetVersion"
    },
    {
     "modelInstanceId": 4686,
     "sourceId": 6065,
     "sourceType": "modelInstanceVersion"
    }
   ],
   "isGpuEnabled": true,
   "isInternetEnabled": true,
   "language": "python",
   "sourceType": "notebook"
  },
  "kernelspec": {
   "display_name": "Python 3",
   "language": "python",
   "name": "python3"
  },
  "language_info": {
   "codemirror_mode": {
    "name": "ipython",
    "version": 3
   },
   "file_extension": ".py",
   "mimetype": "text/x-python",
   "name": "python",
   "nbconvert_exporter": "python",
   "pygments_lexer": "ipython3",
   "version": "3.10.13"
  },
  "papermill": {
   "default_parameters": {},
   "duration": 13079.161941,
   "end_time": "2024-03-29T18:16:39.119478",
   "environment_variables": {},
   "exception": null,
   "input_path": "__notebook__.ipynb",
   "output_path": "__notebook__.ipynb",
   "parameters": {},
   "start_time": "2024-03-29T14:38:39.957537",
   "version": "2.5.0"
  }
 },
 "nbformat": 4,
 "nbformat_minor": 5
}
